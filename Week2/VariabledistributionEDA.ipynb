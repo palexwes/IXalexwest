{
 "cells": [
  {
   "cell_type": "code",
   "execution_count": 1,
   "metadata": {},
   "outputs": [],
   "source": [
    "import pandas as pd\n",
    "import numpy as np\n",
    "import matplotlib.pyplot as plt\n",
    "import seaborn as sns\n",
    "from IPython.display import Image"
   ]
  },
  {
   "cell_type": "code",
   "execution_count": 2,
   "metadata": {},
   "outputs": [],
   "source": [
    "%matplotlib inline\n",
    "\n",
    "plt.rcParams['figure.figsize'] = (8,8)"
   ]
  },
  {
   "cell_type": "code",
   "execution_count": 3,
   "metadata": {},
   "outputs": [
    {
     "name": "stdout",
     "output_type": "stream",
     "text": [
      "Data_QA.EDA.ipynb                   drugoverdose.1.initial_process.csv\r\n",
      "InitialprocessingEDA.ipynb          drugoverdose.2.clean.csv\r\n",
      "VariabledistributionEDA.ipynb       drugoverdose.3.grouped.pkl\r\n",
      "VariablegroupingEDA.ipynb           drugoverdose.csv\r\n"
     ]
    }
   ],
   "source": [
    "ls"
   ]
  },
  {
   "cell_type": "code",
   "execution_count": 4,
   "metadata": {},
   "outputs": [],
   "source": [
    "drugoverdose = pd.read_pickle(\"drugoverdose.3.grouped.pkl\")"
   ]
  },
  {
   "cell_type": "code",
   "execution_count": 5,
   "metadata": {},
   "outputs": [
    {
     "data": {
      "text/plain": [
       "state                   object\n",
       "year                     int64\n",
       "month                   object\n",
       "deaths                 float64\n",
       "region                category\n",
       "season                category\n",
       "death_quantitytype    category\n",
       "dtype: object"
      ]
     },
     "execution_count": 5,
     "metadata": {},
     "output_type": "execute_result"
    }
   ],
   "source": [
    "drugoverdose.dtypes"
   ]
  },
  {
   "cell_type": "code",
   "execution_count": 6,
   "metadata": {},
   "outputs": [
    {
     "data": {
      "image/png": "[encoded data removed]",
      "text/plain": [
       "<Figure size 576x576 with 1 Axes>"
      ]
     },
     "metadata": {},
     "output_type": "display_data"
    }
   ],
   "source": [
    "drugoverdose['deaths'].plot.hist();"
   ]
  },
  {
   "cell_type": "code",
   "execution_count": 7,
   "metadata": {},
   "outputs": [],
   "source": [
    "#skewed to the right"
   ]
  },
  {
   "cell_type": "code",
   "execution_count": 8,
   "metadata": {},
   "outputs": [
    {
     "data": {
      "text/plain": [
       "<matplotlib.axes._subplots.AxesSubplot at 0x1153ff5c0>"
      ]
     },
     "execution_count": 8,
     "metadata": {},
     "output_type": "execute_result"
    },
    {
     "data": {
      "image/png": "[encoded data removed]",
      "text/plain": [
       "<Figure size 576x576 with 1 Axes>"
      ]
     },
     "metadata": {},
     "output_type": "display_data"
    }
   ],
   "source": [
    "drugoverdose['deaths'].plot.kde()"
   ]
  },
  {
   "cell_type": "code",
   "execution_count": 10,
   "metadata": {},
   "outputs": [
    {
     "data": {
      "text/plain": [
       "529.0       0.002056\n",
       "736.0       0.001799\n",
       "689.0       0.001542\n",
       "691.0       0.001542\n",
       "681.0       0.001542\n",
       "722.0       0.001542\n",
       "510.0       0.001542\n",
       "633.0       0.001542\n",
       "616.0       0.001285\n",
       "586.0       0.001285\n",
       "550.0       0.001285\n",
       "683.0       0.001285\n",
       "710.0       0.001285\n",
       "505.0       0.001285\n",
       "579.0       0.001285\n",
       "599.0       0.001285\n",
       "508.0       0.001285\n",
       "996.0       0.001285\n",
       "544.0       0.001285\n",
       "1997.0      0.001285\n",
       "704.0       0.001285\n",
       "738.0       0.001285\n",
       "541.0       0.001028\n",
       "634.0       0.001028\n",
       "1402.0      0.001028\n",
       "694.0       0.001028\n",
       "934.0       0.001028\n",
       "612.0       0.001028\n",
       "707.0       0.001028\n",
       "534.0       0.001028\n",
       "              ...   \n",
       "940.0       0.000257\n",
       "94589.0     0.000257\n",
       "735.0       0.000257\n",
       "2259.0      0.000257\n",
       "6301.0      0.000257\n",
       "31441.0     0.000257\n",
       "558.0       0.000257\n",
       "71495.0     0.000257\n",
       "5811.0      0.000257\n",
       "860.0       0.000257\n",
       "1561.0      0.000257\n",
       "261781.0    0.000257\n",
       "1099.0      0.000257\n",
       "11617.0     0.000257\n",
       "6724.0      0.000257\n",
       "251540.0    0.000257\n",
       "8188.0      0.000257\n",
       "1491.0      0.000257\n",
       "23304.0     0.000257\n",
       "38411.0     0.000257\n",
       "195215.0    0.000257\n",
       "131585.0    0.000257\n",
       "1037.0      0.000257\n",
       "25228.0     0.000257\n",
       "5740.0      0.000257\n",
       "2261.0      0.000257\n",
       "1313.0      0.000257\n",
       "57252.0     0.000257\n",
       "31767.0     0.000257\n",
       "4256.0      0.000257\n",
       "Name: deaths, Length: 3144, dtype: float64"
      ]
     },
     "execution_count": 10,
     "metadata": {},
     "output_type": "execute_result"
    }
   ],
   "source": [
    "drugoverdose['deaths'].value_counts(normalize=True)"
   ]
  },
  {
   "cell_type": "code",
   "execution_count": 11,
   "metadata": {},
   "outputs": [],
   "source": [
    "from scipy import stats"
   ]
  },
  {
   "cell_type": "code",
   "execution_count": 15,
   "metadata": {},
   "outputs": [
    {
     "ename": "NameError",
     "evalue": "name 'interact' is not defined",
     "output_type": "error",
     "traceback": [
      "\u001b[0;31m---------------------------------------------------------------------------\u001b[0m",
      "\u001b[0;31mNameError\u001b[0m                                 Traceback (most recent call last)",
      "\u001b[0;32m<ipython-input-15-277fd61afe4b>\u001b[0m in \u001b[0;36m<module>\u001b[0;34m()\u001b[0m\n\u001b[0;32m----> 1\u001b[0;31m \u001b[0minteract\u001b[0m\u001b[0;34m(\u001b[0m\u001b[0mnumerical_variable_normality\u001b[0m\u001b[0;34m,\u001b[0m \u001b[0mcol\u001b[0m\u001b[0;34m=\u001b[0m\u001b[0mnumerical_columns\u001b[0m\u001b[0;34m)\u001b[0m\u001b[0;34m;\u001b[0m\u001b[0;34m\u001b[0m\u001b[0m\n\u001b[0m",
      "\u001b[0;31mNameError\u001b[0m: name 'interact' is not defined"
     ]
    }
   ],
   "source": [
    "interact(numerical_variable_normality, col=numerical_columns);"
   ]
  },
  {
   "cell_type": "code",
   "execution_count": 12,
   "metadata": {},
   "outputs": [],
   "source": [
    "def categorical_variable_distribution(col):\n",
    "    drugoverdose[col].value_counts(ascending=True,normalize=True).tail(20).plot.barh()\n",
    "    plt.show()"
   ]
  },
  {
   "cell_type": "code",
   "execution_count": 16,
   "metadata": {},
   "outputs": [],
   "source": [
    "from ipywidgets import interact, fixed"
   ]
  },
  {
   "cell_type": "code",
   "execution_count": 17,
   "metadata": {},
   "outputs": [],
   "source": [
    "categorical_columns = drugoverdose.select_dtypes(\n",
    "    ['object', 'category']).columns.tolist()"
   ]
  },
  {
   "cell_type": "code",
   "execution_count": 18,
   "metadata": {},
   "outputs": [
    {
     "data": {
      "application/vnd.jupyter.widget-view+json": {
       "model_id": "c647601ca7174a8bb33d00d6332b4fea",
       "version_major": 2,
       "version_minor": 0
      },
      "text/plain": [
       "interactive(children=(Dropdown(description='col', options=('state', 'month', 'region', 'season', 'death_quanti…"
      ]
     },
     "metadata": {},
     "output_type": "display_data"
    }
   ],
   "source": [
    "interact(categorical_variable_distribution, col=categorical_columns);\n"
   ]
  },
  {
   "cell_type": "code",
   "execution_count": 19,
   "metadata": {},
   "outputs": [],
   "source": [
    "#Conclusions\n",
    "# - the deaths variable does not follow a normal distribution, appears to be skewed to the right\n",
    "# - Death quantity types (very little - Very large) are equally distributed\n",
    "# - Winter has the least amount of data, no serious discrepancies though\n",
    "# - Most of the data coming out of the southern region"
   ]
  },
  {
   "cell_type": "code",
   "execution_count": null,
   "metadata": {},
   "outputs": [],
   "source": []
  }
 ],
 "metadata": {
  "kernelspec": {
   "display_name": "Python 3",
   "language": "python",
   "name": "python3"
  },
  "language_info": {
   "codemirror_mode": {
    "name": "ipython",
    "version": 3
   },
   "file_extension": ".py",
   "mimetype": "text/x-python",
   "name": "python",
   "nbconvert_exporter": "python",
   "pygments_lexer": "ipython3",
   "version": "3.6.5"
  }
 },
 "nbformat": 4,
 "nbformat_minor": 2
}
